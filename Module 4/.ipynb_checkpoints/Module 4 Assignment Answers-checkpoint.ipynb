{
 "cells": [
  {
   "cell_type": "markdown",
   "metadata": {},
   "source": [
    "# Module 4 HW\n",
    "## Filipp Krasovsky, July 25th - 2021"
   ]
  },
  {
   "cell_type": "code",
   "execution_count": 2,
   "metadata": {},
   "outputs": [],
   "source": [
    "import os\n",
    "import re\n",
    "import pandas as pd\n",
    "from sklearn.feature_extraction.text import CountVectorizer"
   ]
  },
  {
   "cell_type": "code",
   "execution_count": 3,
   "metadata": {},
   "outputs": [
    {
     "name": "stdout",
     "output_type": "stream",
     "text": [
      "FOLDER:\n",
      "C:\\Users\\13234\\Documents\\usd_data_sci\\504 machine learning\\Module 4\n",
      "C:\\Users\\13234\\Documents\\usd_data_sci\\504 machine learning\\Module 4\\aclImdb\\train\\neg\n",
      "0 file number 0_3.txt file name\n",
      "1000 file number 10900_3.txt file name\n",
      "2000 file number 11800_4.txt file name\n",
      "3000 file number 1450_3.txt file name\n",
      "4000 file number 2350_1.txt file name\n",
      "5000 file number 3250_3.txt file name\n",
      "6000 file number 4150_2.txt file name\n",
      "7000 file number 5050_1.txt file name\n",
      "8000 file number 5951_4.txt file name\n",
      "9000 file number 6851_4.txt file name\n",
      "10000 file number 7751_4.txt file name\n",
      "11000 file number 8651_1.txt file name\n",
      "12000 file number 9551_1.txt file name\n",
      "C:\\Users\\13234\\Documents\\usd_data_sci\\504 machine learning\\Module 4\\aclImdb\\train\\pos\n",
      "0 file number 0_9.txt file name\n",
      "1000 file number 10900_8.txt file name\n",
      "2000 file number 11800_8.txt file name\n",
      "3000 file number 1450_8.txt file name\n",
      "4000 file number 2350_9.txt file name\n",
      "5000 file number 3250_9.txt file name\n",
      "6000 file number 4150_10.txt file name\n",
      "7000 file number 5050_7.txt file name\n",
      "8000 file number 5951_10.txt file name\n",
      "9000 file number 6851_8.txt file name\n",
      "10000 file number 7751_7.txt file name\n",
      "11000 file number 8651_9.txt file name\n",
      "12000 file number 9551_10.txt file name\n"
     ]
    }
   ],
   "source": [
    "current_folder = os.getcwd()\n",
    "print(\"FOLDER:\")\n",
    "print(current_folder);\n",
    "\n",
    "# data = sklearn.datasets.load_svmlight_files(['labeledBow.feat'])\n",
    "\n",
    "def load_aclImdb_file(filename):\n",
    "    ''' filename is id_rating\n",
    "\n",
    "        returns a dict object, {id, rating, text}\n",
    "    '''\n",
    "    id,rating,txt = re.split('[_.]',filename)\n",
    "    with open(filename,'r',encoding=\"utf8\") as f:\n",
    "        text_of_file = f.read()\n",
    "\n",
    "    return {'id':id,'rating':rating,'text':text_of_file}\n",
    "\n",
    "\n",
    "data_dicts=[]\n",
    "for cat in ['neg','pos']:\n",
    "\n",
    "    os.chdir(os.path.join(current_folder,'aclImdb\\\\train\\\\',cat))\n",
    "    print (os.getcwd())\n",
    "    file_list = os.listdir('.')\n",
    "    \n",
    "    for file,f_num in zip(file_list,range(0,len(file_list))):\n",
    "        dd = load_aclImdb_file(file)\n",
    "        dd.update({'cat':cat})\n",
    "        data_dicts.append(dd)\n",
    "        if (f_num%1000==0): \n",
    "            print('%d file number %s file name' % (f_num,file))"
   ]
  },
  {
   "cell_type": "code",
   "execution_count": 4,
   "metadata": {},
   "outputs": [],
   "source": [
    "acl_imdb_data = pd.DataFrame(data_dicts)\n",
    "\n",
    "# first take on this...\n",
    "corpus = acl_imdb_data['text']\n",
    "vectorizer = CountVectorizer()\n",
    "X = vectorizer.fit_transform(corpus)\n",
    "\n",
    "# MemoryError: Unable to allocate 12.5 GiB for an array with shape (76065, 22110) and data type int64\n",
    "\n",
    "features = vectorizer.get_feature_names()\n",
    "word_count_df=pd.DataFrame.sparse.from_spmatrix(X,columns=features,index=corpus.index)\n",
    "\n",
    "from sklearn import preprocessing\n",
    "lb = preprocessing.LabelBinarizer()\n",
    "lb.fit(acl_imdb_data['cat'])\n",
    "labels = pd.Series(lb.transform(acl_imdb_data['cat']).reshape(-1))\n",
    "\n",
    "labels.name = 'LABELS_FOR_CLASSIFICATION'"
   ]
  },
  {
   "cell_type": "code",
   "execution_count": 5,
   "metadata": {},
   "outputs": [
    {
     "data": {
      "text/html": [
       "<div>\n",
       "<style scoped>\n",
       "    .dataframe tbody tr th:only-of-type {\n",
       "        vertical-align: middle;\n",
       "    }\n",
       "\n",
       "    .dataframe tbody tr th {\n",
       "        vertical-align: top;\n",
       "    }\n",
       "\n",
       "    .dataframe thead th {\n",
       "        text-align: right;\n",
       "    }\n",
       "</style>\n",
       "<table border=\"1\" class=\"dataframe\">\n",
       "  <thead>\n",
       "    <tr style=\"text-align: right;\">\n",
       "      <th></th>\n",
       "      <th>00</th>\n",
       "      <th>000</th>\n",
       "      <th>0000000000001</th>\n",
       "      <th>00001</th>\n",
       "      <th>00015</th>\n",
       "      <th>000s</th>\n",
       "      <th>001</th>\n",
       "      <th>003830</th>\n",
       "      <th>006</th>\n",
       "      <th>007</th>\n",
       "      <th>...</th>\n",
       "      <th>était</th>\n",
       "      <th>état</th>\n",
       "      <th>étc</th>\n",
       "      <th>évery</th>\n",
       "      <th>êxtase</th>\n",
       "      <th>ís</th>\n",
       "      <th>ísnt</th>\n",
       "      <th>østbye</th>\n",
       "      <th>über</th>\n",
       "      <th>üvegtigris</th>\n",
       "    </tr>\n",
       "  </thead>\n",
       "  <tbody>\n",
       "    <tr>\n",
       "      <th>0</th>\n",
       "      <td>0</td>\n",
       "      <td>0</td>\n",
       "      <td>0</td>\n",
       "      <td>0</td>\n",
       "      <td>0</td>\n",
       "      <td>0</td>\n",
       "      <td>0</td>\n",
       "      <td>0</td>\n",
       "      <td>0</td>\n",
       "      <td>0</td>\n",
       "      <td>...</td>\n",
       "      <td>0</td>\n",
       "      <td>0</td>\n",
       "      <td>0</td>\n",
       "      <td>0</td>\n",
       "      <td>0</td>\n",
       "      <td>0</td>\n",
       "      <td>0</td>\n",
       "      <td>0</td>\n",
       "      <td>0</td>\n",
       "      <td>0</td>\n",
       "    </tr>\n",
       "    <tr>\n",
       "      <th>1</th>\n",
       "      <td>0</td>\n",
       "      <td>0</td>\n",
       "      <td>0</td>\n",
       "      <td>0</td>\n",
       "      <td>0</td>\n",
       "      <td>0</td>\n",
       "      <td>0</td>\n",
       "      <td>0</td>\n",
       "      <td>0</td>\n",
       "      <td>0</td>\n",
       "      <td>...</td>\n",
       "      <td>0</td>\n",
       "      <td>0</td>\n",
       "      <td>0</td>\n",
       "      <td>0</td>\n",
       "      <td>0</td>\n",
       "      <td>0</td>\n",
       "      <td>0</td>\n",
       "      <td>0</td>\n",
       "      <td>0</td>\n",
       "      <td>0</td>\n",
       "    </tr>\n",
       "    <tr>\n",
       "      <th>2</th>\n",
       "      <td>0</td>\n",
       "      <td>0</td>\n",
       "      <td>0</td>\n",
       "      <td>0</td>\n",
       "      <td>0</td>\n",
       "      <td>0</td>\n",
       "      <td>0</td>\n",
       "      <td>0</td>\n",
       "      <td>0</td>\n",
       "      <td>0</td>\n",
       "      <td>...</td>\n",
       "      <td>0</td>\n",
       "      <td>0</td>\n",
       "      <td>0</td>\n",
       "      <td>0</td>\n",
       "      <td>0</td>\n",
       "      <td>0</td>\n",
       "      <td>0</td>\n",
       "      <td>0</td>\n",
       "      <td>0</td>\n",
       "      <td>0</td>\n",
       "    </tr>\n",
       "    <tr>\n",
       "      <th>3</th>\n",
       "      <td>0</td>\n",
       "      <td>0</td>\n",
       "      <td>0</td>\n",
       "      <td>0</td>\n",
       "      <td>0</td>\n",
       "      <td>0</td>\n",
       "      <td>0</td>\n",
       "      <td>0</td>\n",
       "      <td>0</td>\n",
       "      <td>0</td>\n",
       "      <td>...</td>\n",
       "      <td>0</td>\n",
       "      <td>0</td>\n",
       "      <td>0</td>\n",
       "      <td>0</td>\n",
       "      <td>0</td>\n",
       "      <td>0</td>\n",
       "      <td>0</td>\n",
       "      <td>0</td>\n",
       "      <td>0</td>\n",
       "      <td>0</td>\n",
       "    </tr>\n",
       "    <tr>\n",
       "      <th>4</th>\n",
       "      <td>0</td>\n",
       "      <td>0</td>\n",
       "      <td>0</td>\n",
       "      <td>0</td>\n",
       "      <td>0</td>\n",
       "      <td>0</td>\n",
       "      <td>0</td>\n",
       "      <td>0</td>\n",
       "      <td>0</td>\n",
       "      <td>0</td>\n",
       "      <td>...</td>\n",
       "      <td>0</td>\n",
       "      <td>0</td>\n",
       "      <td>0</td>\n",
       "      <td>0</td>\n",
       "      <td>0</td>\n",
       "      <td>0</td>\n",
       "      <td>0</td>\n",
       "      <td>0</td>\n",
       "      <td>0</td>\n",
       "      <td>0</td>\n",
       "    </tr>\n",
       "  </tbody>\n",
       "</table>\n",
       "<p>5 rows × 74849 columns</p>\n",
       "</div>"
      ],
      "text/plain": [
       "   00  000  0000000000001  00001  00015  000s  001  003830  006  007  ...  \\\n",
       "0   0    0              0      0      0     0    0       0    0    0  ...   \n",
       "1   0    0              0      0      0     0    0       0    0    0  ...   \n",
       "2   0    0              0      0      0     0    0       0    0    0  ...   \n",
       "3   0    0              0      0      0     0    0       0    0    0  ...   \n",
       "4   0    0              0      0      0     0    0       0    0    0  ...   \n",
       "\n",
       "   était  état  étc  évery  êxtase  ís  ísnt  østbye  über  üvegtigris  \n",
       "0      0     0    0      0       0   0     0       0     0           0  \n",
       "1      0     0    0      0       0   0     0       0     0           0  \n",
       "2      0     0    0      0       0   0     0       0     0           0  \n",
       "3      0     0    0      0       0   0     0       0     0           0  \n",
       "4      0     0    0      0       0   0     0       0     0           0  \n",
       "\n",
       "[5 rows x 74849 columns]"
      ]
     },
     "execution_count": 5,
     "metadata": {},
     "output_type": "execute_result"
    }
   ],
   "source": [
    "word_count_df.head() #this is the dataframe we'll be using for the exercise. this is a very sparse matrix."
   ]
  },
  {
   "cell_type": "markdown",
   "metadata": {},
   "source": [
    "# Linear Classification Section\n",
    "#### Install the package mlextend: http://rasbt.github.io/mlxtend/installation/\n",
    "#### Next, you will do a few exercises to visualize the difference between the different linear classifiers. \n",
    "#### Generate classification data using make_classification from sklearn.datasets:"
   ]
  },
  {
   "cell_type": "code",
   "execution_count": 6,
   "metadata": {},
   "outputs": [],
   "source": [
    "import mlxtend as mlxtend\n",
    "from sklearn.datasets import make_classification\n",
    "from sklearn.linear_model import SGDClassifier\n",
    "from sklearn.preprocessing import StandardScaler\n",
    "from sklearn.pipeline import make_pipeline\n",
    "from mlxtend.plotting import plot_decision_regions\n",
    "from sklearn.model_selection import cross_val_score\n",
    "import matplotlib.pyplot as plt\n",
    "from mlxtend.evaluate import bootstrap_point632_score\n",
    "import numpy as np\n",
    "from seaborn import distplot"
   ]
  },
  {
   "cell_type": "code",
   "execution_count": 7,
   "metadata": {},
   "outputs": [],
   "source": [
    "X  , y = make_classification(n_features=2, n_redundant=0, n_informative=2,random_state=1, n_clusters_per_class=1)"
   ]
  },
  {
   "cell_type": "code",
   "execution_count": 8,
   "metadata": {},
   "outputs": [
    {
     "data": {
      "image/png": "[encoded data removed]",
      "text/plain": [
       "<Figure size 432x288 with 1 Axes>"
      ]
     },
     "metadata": {
      "needs_background": "light"
     },
     "output_type": "display_data"
    }
   ],
   "source": [
    "#Use SGDClassifier to train classifiers using different loss functions: log, hinge, and perceptron\n",
    "log_loss = SGDClassifier(max_iter=1000,loss='log')\n",
    "log_loss.fit(X,y)\n",
    "plot_decision_regions(X, y, clf=log_loss, legend=2,)\n",
    "plt.title(\"Gradient Descent with Log Loss\")\n",
    "plt.show()"
   ]
  },
  {
   "cell_type": "code",
   "execution_count": 9,
   "metadata": {},
   "outputs": [
    {
     "data": {
      "image/png": "[encoded data removed]",
      "text/plain": [
       "<Figure size 432x288 with 1 Axes>"
      ]
     },
     "metadata": {
      "needs_background": "light"
     },
     "output_type": "display_data"
    }
   ],
   "source": [
    "hinge_loss = SGDClassifier(max_iter=1000,loss='hinge')\n",
    "hinge_loss.fit(X,y)\n",
    "plot_decision_regions(X, y, clf=hinge_loss, legend=2,)\n",
    "plt.title(\"Gradient Descent with Hinge Loss\")\n",
    "plt.show()"
   ]
  },
  {
   "cell_type": "code",
   "execution_count": 10,
   "metadata": {},
   "outputs": [
    {
     "data": {
      "image/png": "[encoded data removed]",
      "text/plain": [
       "<Figure size 432x288 with 1 Axes>"
      ]
     },
     "metadata": {
      "needs_background": "light"
     },
     "output_type": "display_data"
    }
   ],
   "source": [
    "perc_loss = SGDClassifier(max_iter=1000,loss='perceptron')\n",
    "perc_loss.fit(X,y)\n",
    "plot_decision_regions(X, y, clf=perc_loss, legend=2,)\n",
    "plt.title(\"Gradient Descent with Perceptron Loss\")\n",
    "plt.show()"
   ]
  },
  {
   "cell_type": "markdown",
   "metadata": {},
   "source": [
    "<h3> Now, create a larger classification dataset. You will use cross_val_score from scikit-learn and compare this to bootstrap_scores from mlextend. \n",
    "Set up the simulated data as follows: \n",
    " </h3>"
   ]
  },
  {
   "cell_type": "code",
   "execution_count": 11,
   "metadata": {},
   "outputs": [],
   "source": [
    "X, y = make_classification(\n",
    "    n_samples=10000,\n",
    "    n_features=20, \n",
    "    n_redundant=0, \n",
    "    n_informative=20,\n",
    "    random_state=1, \n",
    "    n_clusters_per_class=1\n",
    ")"
   ]
  },
  {
   "cell_type": "code",
   "execution_count": 12,
   "metadata": {},
   "outputs": [
    {
     "data": {
      "text/plain": [
       "SGDClassifier(loss='perceptron')"
      ]
     },
     "execution_count": 12,
     "metadata": {},
     "output_type": "execute_result"
    }
   ],
   "source": [
    "#train again\n",
    "\n",
    "#log-loss\n",
    "log_loss = SGDClassifier(max_iter=1000,loss='log')\n",
    "log_loss.fit(X,y)\n",
    "#hinge loss\n",
    "hinge_loss = SGDClassifier(max_iter=1000,loss='hinge')\n",
    "hinge_loss.fit(X,y)\n",
    "#perceptron\n",
    "perc_loss = SGDClassifier(max_iter=1000,loss='perceptron')\n",
    "perc_loss.fit(X,y)"
   ]
  },
  {
   "cell_type": "code",
   "execution_count": 13,
   "metadata": {},
   "outputs": [],
   "source": [
    "#we can get the accuracies and the bootstrap accuracies as follows:\n",
    "def getScores(model):\n",
    "    #get cross validation and bootstrap scores.\n",
    "    scores = cross_val_score(model, X, y, cv=5)\n",
    "    bootstrap_scores = bootstrap_point632_score(model, X, y, method='oob')\n",
    "    return({'cv':scores,'bootstrap':bootstrap_scores})"
   ]
  },
  {
   "cell_type": "code",
   "execution_count": 14,
   "metadata": {},
   "outputs": [],
   "source": [
    "#get cv and boot scores for each classifier.\n",
    "log_loss_scores        = getScores(log_loss)\n",
    "hinge_loss_scores      = getScores(hinge_loss)\n",
    "perceptron_loss_scores = getScores(perc_loss)"
   ]
  },
  {
   "cell_type": "code",
   "execution_count": 15,
   "metadata": {},
   "outputs": [
    {
     "data": {
      "text/html": [
       "<div>\n",
       "<style scoped>\n",
       "    .dataframe tbody tr th:only-of-type {\n",
       "        vertical-align: middle;\n",
       "    }\n",
       "\n",
       "    .dataframe tbody tr th {\n",
       "        vertical-align: top;\n",
       "    }\n",
       "\n",
       "    .dataframe thead th {\n",
       "        text-align: right;\n",
       "    }\n",
       "</style>\n",
       "<table border=\"1\" class=\"dataframe\">\n",
       "  <thead>\n",
       "    <tr style=\"text-align: right;\">\n",
       "      <th></th>\n",
       "      <th>CV</th>\n",
       "      <th>Bootstrap</th>\n",
       "    </tr>\n",
       "  </thead>\n",
       "  <tbody>\n",
       "    <tr>\n",
       "      <th>Log</th>\n",
       "      <td>0.902</td>\n",
       "      <td>0.904</td>\n",
       "    </tr>\n",
       "    <tr>\n",
       "      <th>Hinge</th>\n",
       "      <td>0.896</td>\n",
       "      <td>0.898</td>\n",
       "    </tr>\n",
       "    <tr>\n",
       "      <th>Perceptron</th>\n",
       "      <td>0.873</td>\n",
       "      <td>0.876</td>\n",
       "    </tr>\n",
       "  </tbody>\n",
       "</table>\n",
       "</div>"
      ],
      "text/plain": [
       "               CV  Bootstrap\n",
       "Log         0.902      0.904\n",
       "Hinge       0.896      0.898\n",
       "Perceptron  0.873      0.876"
      ]
     },
     "execution_count": 15,
     "metadata": {},
     "output_type": "execute_result"
    }
   ],
   "source": [
    "#table of average scores\n",
    "scores_list = []\n",
    "for i in [log_loss_scores,hinge_loss_scores,perceptron_loss_scores]:\n",
    "    avg_cv = round(np.mean(i['cv']),3)\n",
    "    avg_bs = round(np.mean(i['bootstrap']),3)\n",
    "    scores_list.append([avg_cv,avg_bs])\n",
    "    \n",
    "pd.DataFrame(scores_list,columns=[\"CV\",\"Bootstrap\"],index=[\"Log\",\"Hinge\",\"Perceptron\"])"
   ]
  },
  {
   "cell_type": "code",
   "execution_count": 16,
   "metadata": {},
   "outputs": [
    {
     "data": {
      "image/png": "[encoded data removed]",
      "text/plain": [
       "<Figure size 432x288 with 1 Axes>"
      ]
     },
     "metadata": {
      "needs_background": "light"
     },
     "output_type": "display_data"
    }
   ],
   "source": [
    "#plot bootstraps\n",
    "import warnings\n",
    "warnings.filterwarnings('ignore')\n",
    "distplot(log_loss_scores['bootstrap'], rug=True,label=\"log\")\n",
    "distplot(hinge_loss_scores['bootstrap'], rug=True,label=\"hinge\")\n",
    "distplot(perceptron_loss_scores['bootstrap'], rug=True,label=\"perceptron\")\n",
    "plt.legend()\n",
    "plt.show()"
   ]
  },
  {
   "cell_type": "markdown",
   "metadata": {},
   "source": [
    "<h3> \n",
    "Finally, you will look at the importance of setting the regularization parameter. Create a database with only two informative features:\n",
    "</h3>"
   ]
  },
  {
   "cell_type": "code",
   "execution_count": 17,
   "metadata": {},
   "outputs": [],
   "source": [
    "X, y = make_classification(\n",
    "    n_samples=1000,\n",
    "    n_features=2000, \n",
    "    n_redundant=0, \n",
    "    n_informative=2,\n",
    "    random_state=1, \n",
    "    n_clusters_per_class=1)\n",
    "\n",
    "alpha_range = [0.0001,0.001,0.01,0.1,1,10,100,1000]"
   ]
  },
  {
   "cell_type": "code",
   "execution_count": 18,
   "metadata": {},
   "outputs": [
    {
     "name": "stdout",
     "output_type": "stream",
     "text": [
      "0.659 0.649\n",
      "0.6450000000000001 0.647\n",
      "0.692 0.633\n",
      "0.8870000000000001 0.647\n",
      "0.501 0.662\n",
      "0.503 0.511\n",
      "0.503 0.499\n",
      "0.499 0.499\n"
     ]
    }
   ],
   "source": [
    "#experiment with different types of regularization\n",
    "l1_penalty = []\n",
    "l2_penalty = []\n",
    "\n",
    "for alpha in alpha_range:\n",
    "    model_l1  = SGDClassifier(max_iter=1000,loss='log',alpha=alpha,penalty=\"l1\")\n",
    "    scores_l1 = np.mean(cross_val_score(model_l1, X, y, cv=5))\n",
    "    model_l2  = SGDClassifier(max_iter=1000,loss='log',alpha=alpha,penalty=\"l2\")\n",
    "    scores_l2 = np.mean(cross_val_score(model_l2, X, y, cv=5))\n",
    "    l1_penalty.append(scores_l1)\n",
    "    l2_penalty.append(scores_l2)\n",
    "    print(scores_l1,scores_l2)"
   ]
  },
  {
   "cell_type": "code",
   "execution_count": 19,
   "metadata": {},
   "outputs": [
    {
     "data": {
      "image/png": "[encoded data removed]",
      "text/plain": [
       "<Figure size 432x288 with 1 Axes>"
      ]
     },
     "metadata": {
      "needs_background": "light"
     },
     "output_type": "display_data"
    }
   ],
   "source": [
    "#plot performance\n",
    "alpha_range = [\"0.0001\",\"0.001\",\"0.01\",\"0.1\",\"1\",\"10\",\"100\",\"1000\"]\n",
    "plt.plot(alpha_range,l1_penalty,label = \"L1 Accuracy\")\n",
    "plt.plot(alpha_range,l2_penalty,label = \"L2 Accuracy\")\n",
    "plt.legend()\n",
    "plt.xlabel(\"Alpha\")\n",
    "plt.ylabel(\"Accuracy\")\n",
    "plt.title(\"Performance vs. ALpha - L1 vsL2\")\n",
    "plt.show()"
   ]
  },
  {
   "cell_type": "markdown",
   "metadata": {},
   "source": [
    "# Large Scale Linear Classification\n",
    "<i> we will be working with the movie review data for this exercise. </i>"
   ]
  },
  {
   "cell_type": "code",
   "execution_count": 20,
   "metadata": {
    "scrolled": false
   },
   "outputs": [
    {
     "data": {
      "text/html": [
       "<div>\n",
       "<style scoped>\n",
       "    .dataframe tbody tr th:only-of-type {\n",
       "        vertical-align: middle;\n",
       "    }\n",
       "\n",
       "    .dataframe tbody tr th {\n",
       "        vertical-align: top;\n",
       "    }\n",
       "\n",
       "    .dataframe thead th {\n",
       "        text-align: right;\n",
       "    }\n",
       "</style>\n",
       "<table border=\"1\" class=\"dataframe\">\n",
       "  <thead>\n",
       "    <tr style=\"text-align: right;\">\n",
       "      <th></th>\n",
       "      <th>00</th>\n",
       "      <th>000</th>\n",
       "      <th>0000000000001</th>\n",
       "      <th>00001</th>\n",
       "      <th>00015</th>\n",
       "      <th>000s</th>\n",
       "      <th>001</th>\n",
       "      <th>003830</th>\n",
       "      <th>006</th>\n",
       "      <th>007</th>\n",
       "      <th>...</th>\n",
       "      <th>était</th>\n",
       "      <th>état</th>\n",
       "      <th>étc</th>\n",
       "      <th>évery</th>\n",
       "      <th>êxtase</th>\n",
       "      <th>ís</th>\n",
       "      <th>ísnt</th>\n",
       "      <th>østbye</th>\n",
       "      <th>über</th>\n",
       "      <th>üvegtigris</th>\n",
       "    </tr>\n",
       "  </thead>\n",
       "  <tbody>\n",
       "    <tr>\n",
       "      <th>0</th>\n",
       "      <td>0</td>\n",
       "      <td>0</td>\n",
       "      <td>0</td>\n",
       "      <td>0</td>\n",
       "      <td>0</td>\n",
       "      <td>0</td>\n",
       "      <td>0</td>\n",
       "      <td>0</td>\n",
       "      <td>0</td>\n",
       "      <td>0</td>\n",
       "      <td>...</td>\n",
       "      <td>0</td>\n",
       "      <td>0</td>\n",
       "      <td>0</td>\n",
       "      <td>0</td>\n",
       "      <td>0</td>\n",
       "      <td>0</td>\n",
       "      <td>0</td>\n",
       "      <td>0</td>\n",
       "      <td>0</td>\n",
       "      <td>0</td>\n",
       "    </tr>\n",
       "    <tr>\n",
       "      <th>1</th>\n",
       "      <td>0</td>\n",
       "      <td>0</td>\n",
       "      <td>0</td>\n",
       "      <td>0</td>\n",
       "      <td>0</td>\n",
       "      <td>0</td>\n",
       "      <td>0</td>\n",
       "      <td>0</td>\n",
       "      <td>0</td>\n",
       "      <td>0</td>\n",
       "      <td>...</td>\n",
       "      <td>0</td>\n",
       "      <td>0</td>\n",
       "      <td>0</td>\n",
       "      <td>0</td>\n",
       "      <td>0</td>\n",
       "      <td>0</td>\n",
       "      <td>0</td>\n",
       "      <td>0</td>\n",
       "      <td>0</td>\n",
       "      <td>0</td>\n",
       "    </tr>\n",
       "    <tr>\n",
       "      <th>2</th>\n",
       "      <td>0</td>\n",
       "      <td>0</td>\n",
       "      <td>0</td>\n",
       "      <td>0</td>\n",
       "      <td>0</td>\n",
       "      <td>0</td>\n",
       "      <td>0</td>\n",
       "      <td>0</td>\n",
       "      <td>0</td>\n",
       "      <td>0</td>\n",
       "      <td>...</td>\n",
       "      <td>0</td>\n",
       "      <td>0</td>\n",
       "      <td>0</td>\n",
       "      <td>0</td>\n",
       "      <td>0</td>\n",
       "      <td>0</td>\n",
       "      <td>0</td>\n",
       "      <td>0</td>\n",
       "      <td>0</td>\n",
       "      <td>0</td>\n",
       "    </tr>\n",
       "    <tr>\n",
       "      <th>3</th>\n",
       "      <td>0</td>\n",
       "      <td>0</td>\n",
       "      <td>0</td>\n",
       "      <td>0</td>\n",
       "      <td>0</td>\n",
       "      <td>0</td>\n",
       "      <td>0</td>\n",
       "      <td>0</td>\n",
       "      <td>0</td>\n",
       "      <td>0</td>\n",
       "      <td>...</td>\n",
       "      <td>0</td>\n",
       "      <td>0</td>\n",
       "      <td>0</td>\n",
       "      <td>0</td>\n",
       "      <td>0</td>\n",
       "      <td>0</td>\n",
       "      <td>0</td>\n",
       "      <td>0</td>\n",
       "      <td>0</td>\n",
       "      <td>0</td>\n",
       "    </tr>\n",
       "    <tr>\n",
       "      <th>4</th>\n",
       "      <td>0</td>\n",
       "      <td>0</td>\n",
       "      <td>0</td>\n",
       "      <td>0</td>\n",
       "      <td>0</td>\n",
       "      <td>0</td>\n",
       "      <td>0</td>\n",
       "      <td>0</td>\n",
       "      <td>0</td>\n",
       "      <td>0</td>\n",
       "      <td>...</td>\n",
       "      <td>0</td>\n",
       "      <td>0</td>\n",
       "      <td>0</td>\n",
       "      <td>0</td>\n",
       "      <td>0</td>\n",
       "      <td>0</td>\n",
       "      <td>0</td>\n",
       "      <td>0</td>\n",
       "      <td>0</td>\n",
       "      <td>0</td>\n",
       "    </tr>\n",
       "  </tbody>\n",
       "</table>\n",
       "<p>5 rows × 74849 columns</p>\n",
       "</div>"
      ],
      "text/plain": [
       "   00  000  0000000000001  00001  00015  000s  001  003830  006  007  ...  \\\n",
       "0   0    0              0      0      0     0    0       0    0    0  ...   \n",
       "1   0    0              0      0      0     0    0       0    0    0  ...   \n",
       "2   0    0              0      0      0     0    0       0    0    0  ...   \n",
       "3   0    0              0      0      0     0    0       0    0    0  ...   \n",
       "4   0    0              0      0      0     0    0       0    0    0  ...   \n",
       "\n",
       "   était  état  étc  évery  êxtase  ís  ísnt  østbye  über  üvegtigris  \n",
       "0      0     0    0      0       0   0     0       0     0           0  \n",
       "1      0     0    0      0       0   0     0       0     0           0  \n",
       "2      0     0    0      0       0   0     0       0     0           0  \n",
       "3      0     0    0      0       0   0     0       0     0           0  \n",
       "4      0     0    0      0       0   0     0       0     0           0  \n",
       "\n",
       "[5 rows x 74849 columns]"
      ]
     },
     "execution_count": 20,
     "metadata": {},
     "output_type": "execute_result"
    }
   ],
   "source": [
    "word_count_df.head()"
   ]
  },
  {
   "cell_type": "code",
   "execution_count": 22,
   "metadata": {
    "scrolled": true
   },
   "outputs": [
    {
     "name": "stdout",
     "output_type": "stream",
     "text": [
      "running job for alpha: 0.0001  num cores: 2\n",
      "0.8402000000000001 0.8343599999999999\n",
      "running job for alpha: 0.001  num cores: 2\n",
      "0.8320000000000001 0.8570399999999999\n",
      "running job for alpha: 0.01  num cores: 2\n",
      "0.7682 0.8590800000000002\n",
      "running job for alpha: 0.1  num cores: 2\n",
      "0.6 0.8234400000000001\n",
      "running job for alpha: 1  num cores: 2\n",
      "0.5 0.73528\n",
      "running job for alpha: 10  num cores: 2\n",
      "0.5 0.67096\n",
      "running job for alpha: 100  num cores: 2\n",
      "0.5 0.5982000000000001\n",
      "running job for alpha: 1000  num cores: 2\n",
      "0.5 0.5352399999999999\n"
     ]
    }
   ],
   "source": [
    "#experiment with different types of regularization for movie review data.\n",
    "#max iterations reduced to speed up computation,\n",
    "#commented out to prevent pdf conversion from taking too long.\n",
    "\n",
    "# l1_penalty = []\n",
    "# l2_penalty = []\n",
    "# alpha_range = [0.0001,0.001,0.01,0.1,1,10,100,1000]\n",
    "# cores = 2 \n",
    "\n",
    "# for alpha in alpha_range:\n",
    "    \n",
    "#     print (\"running job for alpha:\",alpha,\" num cores:\",cores)\n",
    "#     model_l1  = SGDClassifier(max_iter=500,loss='log',alpha=alpha,penalty=\"l1\",n_jobs = cores)\n",
    "#     scores_l1 = np.mean(cross_val_score(model_l1, word_count_df, labels, cv=5))\n",
    "    \n",
    "#     model_l2  = SGDClassifier(max_iter=500,loss='log',alpha=alpha,penalty=\"l2\",n_jobs = cores)\n",
    "#     scores_l2 = np.mean(cross_val_score(model_l2, word_count_df, labels, cv=5))\n",
    "    \n",
    "#     l1_penalty.append(scores_l1)\n",
    "#     l2_penalty.append(scores_l2)\n",
    "    \n",
    "#     print(scores_l1,scores_l2)"
   ]
  },
  {
   "cell_type": "code",
   "execution_count": 23,
   "metadata": {},
   "outputs": [],
   "source": [
    "#scores hard-coded to avoid processing time during pdf output \n",
    "l1_penalty = [0.8402,0.832,0.7682, 0.6,0.5,0.5,0.5,0.5]\n",
    "l2_penalty = [0.8345,0.857,0.859, 0.82344,0.735,0.67,0.5982,0.5352]\n",
    "alpha_range = [0.0001,0.001,0.01,0.1,1,10,100,1000]"
   ]
  },
  {
   "cell_type": "code",
   "execution_count": 24,
   "metadata": {},
   "outputs": [
    {
     "data": {
      "image/png": "[encoded data removed]",
      "text/plain": [
       "<Figure size 432x288 with 1 Axes>"
      ]
     },
     "metadata": {
      "needs_background": "light"
     },
     "output_type": "display_data"
    }
   ],
   "source": [
    "#plot performance for the text data.\n",
    "alpha_range = [\"0.0001\",\"0.001\",\"0.01\",\"0.1\",\"1\",\"10\",\"100\",\"1000\"]\n",
    "plt.plot(alpha_range,l1_penalty,label = \"L1 Accuracy\")\n",
    "plt.plot(alpha_range,l2_penalty,label = \"L2 Accuracy\")\n",
    "plt.legend()\n",
    "plt.xlabel(\"Alpha\")\n",
    "plt.ylabel(\"Accuracy\")\n",
    "plt.title(\"Movie Review Dataset Performance vs. ALpha - L1 vs L2\")\n",
    "plt.show()"
   ]
  }
 ],
 "metadata": {
  "kernelspec": {
   "display_name": "Python 3",
   "language": "python",
   "name": "python3"
  },
  "language_info": {
   "codemirror_mode": {
    "name": "ipython",
    "version": 3
   },
   "file_extension": ".py",
   "mimetype": "text/x-python",
   "name": "python",
   "nbconvert_exporter": "python",
   "pygments_lexer": "ipython3",
   "version": "3.9.1"
  }
 },
 "nbformat": 4,
 "nbformat_minor": 4
}
